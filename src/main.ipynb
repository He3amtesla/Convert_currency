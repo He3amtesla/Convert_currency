{
 "cells": [
  {
   "cell_type": "code",
   "execution_count": 3,
   "metadata": {},
   "outputs": [],
   "source": [
    "import requests\n",
    "\n",
    "base_money = \"USD\"\n",
    "target_money = \"CAD\"\n",
    "\n",
    "\n",
    "def get_exchange_money(base_money, target_money):\n",
    "    response = requests.get(f\"https://v6.exchangerate-api.com/v6/94279738aa864d272c0be4e0/latest/{base_money}\")\n",
    "    return response.json()[\"conversion_rates\"][target_money]\n",
    "\n",
    "def convert_currency(amount, exchange_rate):\n",
    "    return amount * exchange_rate"
   ]
  },
  {
   "cell_type": "code",
   "execution_count": 17,
   "metadata": {},
   "outputs": [],
   "source": [
    "def convert_currency(amount, exchange_rate):\n",
    "    return amount * exchange_rate"
   ]
  },
  {
   "cell_type": "code",
   "execution_count": 8,
   "metadata": {},
   "outputs": [],
   "source": [
    "base_money = \"USD\"\n",
    "target_money = \"CAD\""
   ]
  },
  {
   "cell_type": "code",
   "execution_count": null,
   "metadata": {},
   "outputs": [],
   "source": [
    "response = requests.get(f\"https://v6.exchangerate-api.com/v6/94279738aa864d272c0be4e0/latest/{base_money}\")"
   ]
  },
  {
   "cell_type": "code",
   "execution_count": null,
   "metadata": {},
   "outputs": [],
   "source": [
    "def exchange_money(base_money, target_money):\n",
    "    response = requests.get(f\"https://v6.exchangerate-api.com/v6/94279738aa864d272c0be4e0/latest/{base_money}\")\n",
    "    return response.json()[\"conversion_rates\"][target_money]"
   ]
  },
  {
   "cell_type": "code",
   "execution_count": null,
   "metadata": {},
   "outputs": [],
   "source": [
    "convert_co"
   ]
  },
  {
   "cell_type": "code",
   "execution_count": 18,
   "metadata": {},
   "outputs": [
    {
     "name": "stdout",
     "output_type": "stream",
     "text": [
      "<class 'float'>\n",
      "4.2897\n"
     ]
    }
   ],
   "source": [
    "em = exchange_money(base_money, target_money)\n",
    "zarib = 3\n",
    "total_money = em * zarib\n",
    "print(type(em))\n",
    "print(total_money)"
   ]
  },
  {
   "cell_type": "code",
   "execution_count": null,
   "metadata": {},
   "outputs": [
    {
     "data": {
      "text/plain": [
       "{'USD': 1,\n",
       " 'AED': 3.6725,\n",
       " 'AFN': 70.6611,\n",
       " 'ALL': 91.0838,\n",
       " 'AMD': 392.6906,\n",
       " 'ANG': 1.79,\n",
       " 'AOA': 919.3332,\n",
       " 'ARS': 1069.13,\n",
       " 'AUD': 1.5715,\n",
       " 'AWG': 1.79,\n",
       " 'AZN': 1.7002,\n",
       " 'BAM': 1.7887,\n",
       " 'BBD': 2.0,\n",
       " 'BDT': 121.5577,\n",
       " 'BGN': 1.789,\n",
       " 'BHD': 0.376,\n",
       " 'BIF': 2962.0403,\n",
       " 'BMD': 1.0,\n",
       " 'BND': 1.3311,\n",
       " 'BOB': 6.9273,\n",
       " 'BRL': 5.6835,\n",
       " 'BSD': 1.0,\n",
       " 'BTN': 86.638,\n",
       " 'BWP': 13.6111,\n",
       " 'BYN': 3.2708,\n",
       " 'BZD': 2.0,\n",
       " 'CAD': 1.4299,\n",
       " 'CDF': 2857.0588,\n",
       " 'CHF': 0.8776,\n",
       " 'CLP': 922.2277,\n",
       " 'CNY': 7.2304,\n",
       " 'COP': 4068.7278,\n",
       " 'CRC': 499.3135,\n",
       " 'CUP': 24.0,\n",
       " 'CVE': 100.8452,\n",
       " 'CZK': 22.8993,\n",
       " 'DJF': 177.721,\n",
       " 'DKK': 6.8207,\n",
       " 'DOP': 62.9596,\n",
       " 'DZD': 133.3669,\n",
       " 'EGP': 50.4876,\n",
       " 'ERN': 15.0,\n",
       " 'ETB': 129.6463,\n",
       " 'EUR': 0.9146,\n",
       " 'FJD': 2.2843,\n",
       " 'FKP': 0.7696,\n",
       " 'FOK': 6.8208,\n",
       " 'GBP': 0.7696,\n",
       " 'GEL': 2.7849,\n",
       " 'GGP': 0.7696,\n",
       " 'GHS': 15.5305,\n",
       " 'GIP': 0.7696,\n",
       " 'GMD': 72.5579,\n",
       " 'GNF': 8609.2248,\n",
       " 'GTQ': 7.7159,\n",
       " 'GYD': 209.6922,\n",
       " 'HKD': 7.7697,\n",
       " 'HNL': 25.6165,\n",
       " 'HRK': 6.8908,\n",
       " 'HTG': 131.2097,\n",
       " 'HUF': 363.5959,\n",
       " 'IDR': 16481.5739,\n",
       " 'ILS': 3.6625,\n",
       " 'IMP': 0.7696,\n",
       " 'INR': 86.6423,\n",
       " 'IQD': 1310.8323,\n",
       " 'IRR': 41997.239,\n",
       " 'ISK': 133.391,\n",
       " 'JEP': 0.7696,\n",
       " 'JMD': 156.8679,\n",
       " 'JOD': 0.709,\n",
       " 'JPY': 149.4413,\n",
       " 'KES': 129.3297,\n",
       " 'KGS': 87.4105,\n",
       " 'KHR': 4000.7443,\n",
       " 'KID': 1.5716,\n",
       " 'KMF': 449.9396,\n",
       " 'KRW': 1450.3019,\n",
       " 'KWD': 0.3081,\n",
       " 'KYD': 0.8333,\n",
       " 'KZT': 497.8676,\n",
       " 'LAK': 21865.1559,\n",
       " 'LBP': 89500.0,\n",
       " 'LKR': 295.6303,\n",
       " 'LRD': 200.2455,\n",
       " 'LSL': 18.1103,\n",
       " 'LYD': 4.8164,\n",
       " 'MAD': 9.6551,\n",
       " 'MDL': 17.8909,\n",
       " 'MGA': 4657.8313,\n",
       " 'MKD': 56.5817,\n",
       " 'MMK': 2099.9475,\n",
       " 'MNT': 3455.8089,\n",
       " 'MOP': 8.0028,\n",
       " 'MRU': 39.8984,\n",
       " 'MUR': 45.0479,\n",
       " 'MVR': 15.4737,\n",
       " 'MWK': 1742.0561,\n",
       " 'MXN': 19.9557,\n",
       " 'MYR': 4.445,\n",
       " 'MZN': 63.9151,\n",
       " 'NAD': 18.1103,\n",
       " 'NGN': 1537.0342,\n",
       " 'NIO': 36.8406,\n",
       " 'NOK': 10.559,\n",
       " 'NPR': 138.6208,\n",
       " 'NZD': 1.7191,\n",
       " 'OMR': 0.3845,\n",
       " 'PAB': 1.0,\n",
       " 'PEN': 3.6533,\n",
       " 'PGK': 4.1147,\n",
       " 'PHP': 57.2832,\n",
       " 'PKR': 280.585,\n",
       " 'PLN': 3.8218,\n",
       " 'PYG': 7934.5306,\n",
       " 'QAR': 3.64,\n",
       " 'RON': 4.5562,\n",
       " 'RSD': 107.2043,\n",
       " 'RUB': 81.8962,\n",
       " 'RWF': 1436.5175,\n",
       " 'SAR': 3.75,\n",
       " 'SBD': 8.5851,\n",
       " 'SCR': 14.7253,\n",
       " 'SDG': 449.4941,\n",
       " 'SEK': 10.0518,\n",
       " 'SGD': 1.3311,\n",
       " 'SHP': 0.7696,\n",
       " 'SLE': 22.8412,\n",
       " 'SLL': 22841.1652,\n",
       " 'SOS': 571.5189,\n",
       " 'SRD': 36.6103,\n",
       " 'SSP': 4550.8067,\n",
       " 'STN': 22.407,\n",
       " 'SYP': 12932.4941,\n",
       " 'SZL': 18.1103,\n",
       " 'THB': 33.5952,\n",
       " 'TJS': 10.9205,\n",
       " 'TMT': 3.5,\n",
       " 'TND': 3.0777,\n",
       " 'TOP': 2.3859,\n",
       " 'TRY': 36.6925,\n",
       " 'TTD': 6.7598,\n",
       " 'TVD': 1.5716,\n",
       " 'TWD': 32.9641,\n",
       " 'TZS': 2620.9838,\n",
       " 'UAH': 41.5634,\n",
       " 'UGX': 3666.2658,\n",
       " 'UYU': 42.6363,\n",
       " 'UZS': 12936.9284,\n",
       " 'VES': 67.6344,\n",
       " 'VND': 25552.2645,\n",
       " 'VUV': 122.7368,\n",
       " 'WST': 2.7943,\n",
       " 'XAF': 599.9195,\n",
       " 'XCD': 2.7,\n",
       " 'XDR': 0.7481,\n",
       " 'XOF': 599.9195,\n",
       " 'XPF': 109.1376,\n",
       " 'YER': 246.7293,\n",
       " 'ZAR': 18.1072,\n",
       " 'ZMW': 28.7538,\n",
       " 'ZWL': 26.6813}"
      ]
     },
     "execution_count": 7,
     "metadata": {},
     "output_type": "execute_result"
    }
   ],
   "source": [
    "response.json()[\"conversion_rates\"]"
   ]
  },
  {
   "cell_type": "code",
   "execution_count": 8,
   "metadata": {},
   "outputs": [
    {
     "data": {
      "text/plain": [
       "<Response [200]>"
      ]
     },
     "execution_count": 8,
     "metadata": {},
     "output_type": "execute_result"
    }
   ],
   "source": [
    "response = requests.get(\"https://v6.exchangerate-api.com/v6/94279738aa864d272c0be4e0/latest/USD\")\n",
    "response"
   ]
  },
  {
   "cell_type": "code",
   "execution_count": 7,
   "metadata": {},
   "outputs": [
    {
     "data": {
      "text/plain": [
       "['USD',\n",
       " 'AED',\n",
       " 'AFN',\n",
       " 'ALL',\n",
       " 'AMD',\n",
       " 'ANG',\n",
       " 'AOA',\n",
       " 'ARS',\n",
       " 'AUD',\n",
       " 'AWG',\n",
       " 'AZN',\n",
       " 'BAM',\n",
       " 'BBD',\n",
       " 'BDT',\n",
       " 'BGN',\n",
       " 'BHD',\n",
       " 'BIF',\n",
       " 'BMD',\n",
       " 'BND',\n",
       " 'BOB',\n",
       " 'BRL',\n",
       " 'BSD',\n",
       " 'BTN',\n",
       " 'BWP',\n",
       " 'BYN',\n",
       " 'BZD',\n",
       " 'CAD',\n",
       " 'CDF',\n",
       " 'CHF',\n",
       " 'CLP',\n",
       " 'CNY',\n",
       " 'COP',\n",
       " 'CRC',\n",
       " 'CUP',\n",
       " 'CVE',\n",
       " 'CZK',\n",
       " 'DJF',\n",
       " 'DKK',\n",
       " 'DOP',\n",
       " 'DZD',\n",
       " 'EGP',\n",
       " 'ERN',\n",
       " 'ETB',\n",
       " 'EUR',\n",
       " 'FJD',\n",
       " 'FKP',\n",
       " 'FOK',\n",
       " 'GBP',\n",
       " 'GEL',\n",
       " 'GGP',\n",
       " 'GHS',\n",
       " 'GIP',\n",
       " 'GMD',\n",
       " 'GNF',\n",
       " 'GTQ',\n",
       " 'GYD',\n",
       " 'HKD',\n",
       " 'HNL',\n",
       " 'HRK',\n",
       " 'HTG',\n",
       " 'HUF',\n",
       " 'IDR',\n",
       " 'ILS',\n",
       " 'IMP',\n",
       " 'INR',\n",
       " 'IQD',\n",
       " 'IRR',\n",
       " 'ISK',\n",
       " 'JEP',\n",
       " 'JMD',\n",
       " 'JOD',\n",
       " 'JPY',\n",
       " 'KES',\n",
       " 'KGS',\n",
       " 'KHR',\n",
       " 'KID',\n",
       " 'KMF',\n",
       " 'KRW',\n",
       " 'KWD',\n",
       " 'KYD',\n",
       " 'KZT',\n",
       " 'LAK',\n",
       " 'LBP',\n",
       " 'LKR',\n",
       " 'LRD',\n",
       " 'LSL',\n",
       " 'LYD',\n",
       " 'MAD',\n",
       " 'MDL',\n",
       " 'MGA',\n",
       " 'MKD',\n",
       " 'MMK',\n",
       " 'MNT',\n",
       " 'MOP',\n",
       " 'MRU',\n",
       " 'MUR',\n",
       " 'MVR',\n",
       " 'MWK',\n",
       " 'MXN',\n",
       " 'MYR',\n",
       " 'MZN',\n",
       " 'NAD',\n",
       " 'NGN',\n",
       " 'NIO',\n",
       " 'NOK',\n",
       " 'NPR',\n",
       " 'NZD',\n",
       " 'OMR',\n",
       " 'PAB',\n",
       " 'PEN',\n",
       " 'PGK',\n",
       " 'PHP',\n",
       " 'PKR',\n",
       " 'PLN',\n",
       " 'PYG',\n",
       " 'QAR',\n",
       " 'RON',\n",
       " 'RSD',\n",
       " 'RUB',\n",
       " 'RWF',\n",
       " 'SAR',\n",
       " 'SBD',\n",
       " 'SCR',\n",
       " 'SDG',\n",
       " 'SEK',\n",
       " 'SGD',\n",
       " 'SHP',\n",
       " 'SLE',\n",
       " 'SLL',\n",
       " 'SOS',\n",
       " 'SRD',\n",
       " 'SSP',\n",
       " 'STN',\n",
       " 'SYP',\n",
       " 'SZL',\n",
       " 'THB',\n",
       " 'TJS',\n",
       " 'TMT',\n",
       " 'TND',\n",
       " 'TOP',\n",
       " 'TRY',\n",
       " 'TTD',\n",
       " 'TVD',\n",
       " 'TWD',\n",
       " 'TZS',\n",
       " 'UAH',\n",
       " 'UGX',\n",
       " 'UYU',\n",
       " 'UZS',\n",
       " 'VES',\n",
       " 'VND',\n",
       " 'VUV',\n",
       " 'WST',\n",
       " 'XAF',\n",
       " 'XCD',\n",
       " 'XDR',\n",
       " 'XOF',\n",
       " 'XPF',\n",
       " 'YER',\n",
       " 'ZAR',\n",
       " 'ZMW',\n",
       " 'ZWL']"
      ]
     },
     "execution_count": 7,
     "metadata": {},
     "output_type": "execute_result"
    }
   ],
   "source": [
    "list(response.json()[\"conversion_rates\"].keys())"
   ]
  },
  {
   "cell_type": "code",
   "execution_count": 1,
   "metadata": {},
   "outputs": [
    {
     "name": "stdout",
     "output_type": "stream",
     "text": [
      "Requirement already satisfied: cachetools in /home/he3am/miniconda3/envs/py310/lib/python3.10/site-packages (5.5.1)\n",
      "Note: you may need to restart the kernel to use updated packages.\n"
     ]
    }
   ],
   "source": [
    "%pip install cachetools"
   ]
  },
  {
   "cell_type": "code",
   "execution_count": null,
   "metadata": {},
   "outputs": [],
   "source": [
    "from cachetools import cachedm, "
   ]
  },
  {
   "cell_type": "markdown",
   "metadata": {},
   "source": [
    "Testing Decoriate:\n"
   ]
  },
  {
   "cell_type": "code",
   "execution_count": 2,
   "metadata": {},
   "outputs": [],
   "source": [
    "from functools import cache, lru_cache\n",
    "\n"
   ]
  },
  {
   "cell_type": "code",
   "execution_count": null,
   "metadata": {},
   "outputs": [],
   "source": [
    "@cache\n",
    "def fibonacci(n):\n",
    "    if n < 2:\n",
    "        return n\n",
    "    return fibonacci(n - 1) + fibonacci (n - 2)"
   ]
  },
  {
   "cell_type": "code",
   "execution_count": 26,
   "metadata": {},
   "outputs": [
    {
     "data": {
      "text/plain": [
       "43466557686937456435688527675040625802564660517371780402481729089536555417949051890403879840079255169295922593080322634775209689623239873322471161642996440906533187938298969649928516003704476137795166849228875"
      ]
     },
     "execution_count": 26,
     "metadata": {},
     "output_type": "execute_result"
    }
   ],
   "source": [
    "fibonacci(1000)"
   ]
  },
  {
   "cell_type": "code",
   "execution_count": 72,
   "metadata": {},
   "outputs": [],
   "source": [
    "@lru_cache(maxsize = 100000)\n",
    "def fibonacci(n):\n",
    "    if n < 2:\n",
    "        return n\n",
    "    return fibonacci(n - 1) + fibonacci (n - 2)"
   ]
  },
  {
   "cell_type": "code",
   "execution_count": 77,
   "metadata": {},
   "outputs": [
    {
     "data": {
      "text/plain": [
       "43466557686937456435688527675040625802564660517371780402481729089536555417949051890403879840079255169295922593080322634775209689623239873322471161642996440906533187938298969649928516003704476137795166849228875"
      ]
     },
     "execution_count": 77,
     "metadata": {},
     "output_type": "execute_result"
    }
   ],
   "source": [
    "fibonacci(1000)"
   ]
  },
  {
   "cell_type": "code",
   "execution_count": 78,
   "metadata": {},
   "outputs": [
    {
     "data": {
      "text/plain": [
       "CacheInfo(hits=998, misses=1001, maxsize=100000, currsize=1001)"
      ]
     },
     "execution_count": 78,
     "metadata": {},
     "output_type": "execute_result"
    }
   ],
   "source": [
    "fibonacci.cache_info()"
   ]
  },
  {
   "cell_type": "code",
   "execution_count": 75,
   "metadata": {},
   "outputs": [],
   "source": [
    "fibonacci.cache_clear()"
   ]
  },
  {
   "cell_type": "code",
   "execution_count": 79,
   "metadata": {},
   "outputs": [
    {
     "name": "stdout",
     "output_type": "stream",
     "text": [
      "Requirement already satisfied: cachetools in /home/he3am/miniconda3/envs/py310/lib/python3.10/site-packages (5.5.1)\n",
      "Note: you may need to restart the kernel to use updated packages.\n"
     ]
    }
   ],
   "source": [
    "%pip install cachetools"
   ]
  },
  {
   "cell_type": "code",
   "execution_count": 80,
   "metadata": {},
   "outputs": [],
   "source": [
    "from cachetools import cached, TTLCache"
   ]
  },
  {
   "cell_type": "code",
   "execution_count": null,
   "metadata": {},
   "outputs": [],
   "source": [
    "ttl_cache = TTLCache(maxsize= 100, ttl= )"
   ]
  }
 ],
 "metadata": {
  "kernelspec": {
   "display_name": "py310",
   "language": "python",
   "name": "python3"
  },
  "language_info": {
   "codemirror_mode": {
    "name": "ipython",
    "version": 3
   },
   "file_extension": ".py",
   "mimetype": "text/x-python",
   "name": "python",
   "nbconvert_exporter": "python",
   "pygments_lexer": "ipython3",
   "version": "3.10.15"
  }
 },
 "nbformat": 4,
 "nbformat_minor": 2
}
